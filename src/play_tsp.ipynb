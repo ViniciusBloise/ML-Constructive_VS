{
 "cells": [
  {
   "cell_type": "code",
   "execution_count": null,
   "metadata": {},
   "outputs": [],
   "source": []
  }
 ],
 "metadata": {
  "kernelspec": {
   "display_name": "Python 3",
   "language": "python",
   "name": "python3"
  },
  "language_info": {
   "name": "python",
   "version": "3.9.1 (default, Feb 11 2021, 22:02:36) \n[Clang 12.0.0 (clang-1200.0.32.29)]"
  },
  "orig_nbformat": 4,
  "vscode": {
   "interpreter": {
    "hash": "fa69a5d57ee1284e05123d687815f1cc21a2d834a0fd8577ffba7fe7b2f25094"
   }
  }
 },
 "nbformat": 4,
 "nbformat_minor": 2
}
