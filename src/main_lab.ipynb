{
 "cells": [
  {
   "cell_type": "code",
   "execution_count": 43,
   "metadata": {
    "pycharm": {
     "name": "#%%\n"
    }
   },
   "outputs": [
    {
     "name": "stdout",
     "output_type": "stream",
     "text": [
      "base\n",
      "/Users/vbloise/.pyenv/versions/3.9.1/bin/python\n",
      "3.9.1 (default, Feb 11 2021, 22:02:36) \n",
      "[Clang 12.0.0 (clang-1200.0.32.29)]\n",
      "sys.version_info(major=3, minor=9, micro=1, releaselevel='final', serial=0)\n"
     ]
    }
   ],
   "source": [
    "import os\n",
    "print (os.environ['CONDA_DEFAULT_ENV'])\n",
    "\n",
    "import sys\n",
    "print(sys.executable)\n",
    "print(sys.version)\n",
    "print(sys.version_info)"
   ]
  },
  {
   "cell_type": "code",
   "execution_count": 44,
   "metadata": {
    "pycharm": {
     "name": "#%%\n"
    }
   },
   "outputs": [
    {
     "name": "stdout",
     "output_type": "stream",
     "text": [
      "Package              Version\r\n",
      "-------------------- -----------\r\n",
      "appnope              0.1.3\r\n",
      "argon2-cffi          21.3.0\r\n",
      "argon2-cffi-bindings 21.2.0\r\n",
      "asttokens            2.0.5\r\n",
      "attrs                21.4.0\r\n",
      "autopep8             1.6.0\r\n",
      "backcall             0.2.0\r\n",
      "beautifulsoup4       4.11.1\r\n",
      "bleach               5.0.0\r\n",
      "cffi                 1.15.0\r\n",
      "cycler               0.11.0\r\n",
      "debugpy              1.6.0\r\n",
      "decorator            5.1.1\r\n",
      "defusedxml           0.7.1\r\n",
      "entrypoints          0.4\r\n",
      "executing            0.8.3\r\n",
      "fastjsonschema       2.15.3\r\n",
      "fonttools            4.33.3\r\n",
      "ipykernel            6.15.0\r\n",
      "ipython              8.4.0\r\n",
      "ipython-genutils     0.2.0\r\n",
      "ipywidgets           7.7.0\r\n",
      "jedi                 0.18.1\r\n",
      "Jinja2               3.1.2\r\n",
      "jsonschema           4.6.0\r\n",
      "jupyter              1.0.0\r\n",
      "jupyter-client       7.3.4\r\n",
      "jupyter-console      6.4.3\r\n",
      "jupyter-core         4.10.0\r\n",
      "jupyterlab-pygments  0.2.2\r\n",
      "jupyterlab-widgets   1.1.0\r\n",
      "kiwisolver           1.4.3\r\n",
      "MarkupSafe           2.1.1\r\n",
      "matplotlib           3.5.2\r\n",
      "matplotlib-inline    0.1.3\r\n",
      "mistune              0.8.4\r\n",
      "nbclient             0.6.4\r\n",
      "nbconvert            6.5.0\r\n",
      "nbformat             5.4.0\r\n",
      "nest-asyncio         1.5.5\r\n",
      "networkx             2.8.4\r\n",
      "notebook             6.4.12\r\n",
      "numpy                1.22.4\r\n",
      "packaging            21.3\r\n",
      "pandocfilters        1.5.0\r\n",
      "parso                0.8.3\r\n",
      "pexpect              4.8.0\r\n",
      "pickleshare          0.7.5\r\n",
      "Pillow               9.1.1\r\n",
      "pip                  22.1.2\r\n",
      "prometheus-client    0.14.1\r\n",
      "prompt-toolkit       3.0.29\r\n",
      "psutil               5.9.1\r\n",
      "ptyprocess           0.7.0\r\n",
      "pure-eval            0.2.2\r\n",
      "pycodestyle          2.8.0\r\n",
      "pycparser            2.21\r\n",
      "Pygments             2.12.0\r\n",
      "pyparsing            3.0.9\r\n",
      "pyrsistent           0.18.1\r\n",
      "python-dateutil      2.8.2\r\n",
      "PyYAML               6.0\r\n",
      "pyzmq                23.1.0\r\n",
      "qtconsole            5.3.1\r\n",
      "QtPy                 2.1.0\r\n",
      "scipy                1.8.1\r\n",
      "Send2Trash           1.8.0\r\n",
      "setuptools           49.2.1\r\n",
      "six                  1.16.0\r\n",
      "soupsieve            2.3.2.post1\r\n",
      "stack-data           0.3.0\r\n",
      "terminado            0.15.0\r\n",
      "tinycss2             1.1.1\r\n",
      "toml                 0.10.2\r\n",
      "tornado              6.1\r\n",
      "traitlets            5.3.0\r\n",
      "wcwidth              0.2.5\r\n",
      "webencodings         0.5.1\r\n",
      "widgetsnbextension   3.6.0\r\n"
     ]
    }
   ],
   "source": [
    "!pip list"
   ]
  },
  {
   "cell_type": "code",
   "execution_count": 77,
   "metadata": {
    "pycharm": {
     "name": "#%%\n"
    }
   },
   "outputs": [
    {
     "name": "stdout",
     "output_type": "stream",
     "text": [
      "ch130\n"
     ]
    }
   ],
   "source": [
    "from tsplib import readerTSP, plotterTSP\n",
    "import networkx as nx\n",
    "\n",
    "reader = readerTSP.ReaderTSP()\n",
    "plotter = plotterTSP.PlotterTSP(None)\n",
    "\n",
    "iterator = iter(reader.instances_generator())\n",
    "next(iterator); next(iterator); next(iterator)\n",
    "instance = next(iterator)\n",
    "n_points, positions, distance_matrix, name, optimal_tour = instance\n",
    "print(name)"
   ]
  },
  {
   "cell_type": "code",
   "execution_count": null,
   "outputs": [],
   "source": [
    "from scipy.sparse import csr_matrix\n",
    "from scipy.sparse.csgraph import minimum_spanning_tree\n",
    "import numpy as np\n",
    "\n",
    "def add_optimal_edges(g, opt_tour):\n",
    "    prev = None\n",
    "    first = None\n",
    "    edges = []\n",
    "    for node in opt_tour:\n",
    "        if prev is None:\n",
    "            first = prev = node\n",
    "            continue\n",
    "        edge_tpl = (prev, node)\n",
    "        g.add_edge(*edge_tpl)\n",
    "        edges.append(edge_tpl)\n",
    "        prev = node\n",
    "    g.add_edge(first, prev)\n",
    "    edges.append((first, prev))\n",
    "    return edges\n",
    "\n",
    "def add_minimum_spanning_tree(g, dist_matrix):\n",
    "    X = np.triu(dist_matrix,0)\n",
    "    Tcsr = minimum_spanning_tree(csr_matrix(X))\n",
    "\n",
    "    G_mst = g.copy()\n",
    "    edges = []\n",
    "    for edge in np.argwhere(Tcsr>0):\n",
    "        edge_tpl = (edge[0], edge[1])\n",
    "        G_mst.add_edge(*edge_tpl)\n",
    "        edges.append(edge_tpl)\n",
    "\n",
    "    options['edge_color']='lightgray'\n",
    "    nx.draw(G_mst, pos, **options)\n",
    "    return edges\n",
    "\n",
    "def add_shortest_edges(g, dist_matrix):\n",
    "    size = distance_matrix.shape[0]\n",
    "\n",
    "    G_min = g.copy()\n",
    "    for edge in np.argsort(dist_matrix, axis=None)[size:size*3]:\n",
    "        #print(edge, edge % size, edge // size)\n",
    "        G_min.add_edge(edge % size, edge // size)\n",
    "\n",
    "    options['edge_color']='red'\n",
    "    nx.draw(G_min, pos, **options)\n",
    "    \n",
    "def add_local_shortest_edges(g, dist_matrix):\n",
    "    j = 0\n",
    "    G_min2 = g.copy()\n",
    "    edges = []\n",
    "    for i in np.argsort(dist_matrix, axis=1):\n",
    "        edge_tpl = (j, i[1])\n",
    "        G_min2.add_edge(*edge_tpl)\n",
    "        edges.append(edge_tpl)\n",
    "        \n",
    "        #G_min2.add_edge(j, i[2])\n",
    "        j += 1\n",
    "        \n",
    "    options['edge_color']='red'\n",
    "    nx.draw(G_min2, pos, **options)\n",
    "    return edges"
   ],
   "metadata": {
    "collapsed": false,
    "pycharm": {
     "name": "#%%\n"
    }
   }
  },
  {
   "cell_type": "code",
   "execution_count": null,
   "outputs": [],
   "source": [
    "plotter.set_figure(1)\n",
    "plotter.plot_points(positions)"
   ],
   "metadata": {
    "collapsed": false,
    "pycharm": {
     "name": "#%%\n"
    }
   }
  },
  {
   "cell_type": "code",
   "execution_count": null,
   "outputs": [],
   "source": [
    "edges_mst = add_minimum_spanning_tree(G, distance_matrix)\n",
    "\n",
    "#filterX = X[X > 0]"
   ],
   "metadata": {
    "collapsed": false,
    "pycharm": {
     "name": "#%%\n"
    }
   }
  },
  {
   "cell_type": "code",
   "execution_count": null,
   "outputs": [],
   "source": [
    "edges_lmin = add_local_shortest_edges(G, distance_matrix)"
   ],
   "metadata": {
    "collapsed": false,
    "pycharm": {
     "name": "#%%\n"
    }
   }
  },
  {
   "cell_type": "code",
   "execution_count": null,
   "outputs": [],
   "source": [
    "#print(edges_mst)\n",
    "#print(edges_lmin)\n",
    "#np.intersect1d(edges_mst, edges_lmin)\n",
    "\n",
    "rev_edges_lmin = [(e[1], e[0]) for e in edges_lmin]\n",
    "intersect_edges = set(edges_mst).intersection(set(edges_lmin).union(rev_edges_lmin))\n",
    "diff_edges = set(edges_mst) - set(edges_lmin)\n",
    "#print(len(intersect_edges))\n",
    "#print(len((diff_edges).union(set(edges_lmin) - set(edges_mst))))\n",
    "#add_shortest_edges(G, distance_matrix)\n",
    "\n",
    "G_nsct = G.copy()\n",
    "options = {'node_size':8}\n",
    "nx.draw_networkx_nodes(G_nsct, pos, node_size=8)\n",
    "for edge in intersect_edges:\n",
    "    G_nsct.add_edge(edge[0], edge[1], color='red')\n",
    "nx.draw_networkx_edges(G_nsct, pos, edgelist=intersect_edges, edge_color='red', width=2)\n",
    "    \n",
    "for edge in diff_edges:\n",
    "    G_nsct.add_edge(edge[0], edge[1], color='gray')\n",
    "nx.draw_networkx_edges(G_nsct, pos, edgelist=diff_edges, edge_color='lightgray')\n",
    "\n"
   ],
   "metadata": {
    "collapsed": false,
    "pycharm": {
     "name": "#%%\n"
    }
   }
  },
  {
   "cell_type": "code",
   "execution_count": null,
   "outputs": [],
   "source": [
    "G_opt = G.copy()\n",
    "opt_edges = add_optimal_edges(G_opt, optimal_tour)\n",
    "options['edge_color']='lightgray'\n",
    "nx.draw(G_opt, pos, **options)\n"
   ],
   "metadata": {
    "collapsed": false,
    "pycharm": {
     "name": "#%%\n"
    }
   }
  },
  {
   "cell_type": "code",
   "execution_count": null,
   "outputs": [],
   "source": [
    "rev_opt_edges = [(e[1], e[0]) for e in opt_edges]\n",
    "error_edges = set(intersect_edges) - set(opt_edges) - set(rev_opt_edges)\n",
    "print(len(opt_edges), len(intersect_edges), len(error_edges))\n"
   ],
   "metadata": {
    "collapsed": false,
    "pycharm": {
     "name": "#%%\n"
    }
   }
  },
  {
   "cell_type": "code",
   "execution_count": null,
   "outputs": [],
   "source": [
    "print(set(error_edges))\n",
    "print('\\n', set(opt_edges))"
   ],
   "metadata": {
    "collapsed": false,
    "pycharm": {
     "name": "#%%\n"
    }
   }
  },
  {
   "cell_type": "code",
   "execution_count": null,
   "outputs": [],
   "source": [
    "nx.draw(G_opt, pos, **options)\n",
    "nx.draw_networkx_edges(G_opt, pos, edgelist=error_edges, edge_color='red', width=3)"
   ],
   "metadata": {
    "collapsed": false,
    "pycharm": {
     "name": "#%%\n"
    }
   }
  },
  {
   "cell_type": "code",
   "execution_count": 180,
   "metadata": {},
   "outputs": [
    {
     "name": "stdout",
     "output_type": "stream",
     "text": [
      "130 85 15\n"
     ]
    }
   ],
   "source": [
    "rev_opt_edges = [(e[1], e[0]) for e in opt_edges]\n",
    "error_edges = set(intersect_edges) - set(opt_edges) - set(rev_opt_edges)\n",
    "print(len(opt_edges), len(intersect_edges), len(error_edges))\n"
   ]
  },
  {
   "cell_type": "code",
   "execution_count": 168,
   "metadata": {},
   "outputs": [
    {
     "name": "stdout",
     "output_type": "stream",
     "text": [
      "{(34, 117), (41, 43), (25, 96), (1, 49), (52, 119), (103, 106), (51, 74), (80, 86), (3, 34), (5, 101), (49, 129), (75, 108), (19, 45), (6, 96), (37, 78), (45, 79), (9, 13), (22, 46), (85, 87), (65, 84), (35, 83), (23, 115), (110, 122), (66, 95), (16, 30), (55, 64), (4, 10), (2, 113), (14, 23), (84, 124), (63, 68), (61, 104)}\n",
      "\n",
      " {(60, 108), (115, 23), (26, 30), (42, 103), (27, 114), (47, 62), (82, 29), (107, 113), (18, 26), (102, 80), (108, 75), (61, 27), (73, 74), (34, 3), (88, 93), (53, 34), (125, 20), (109, 88), (51, 64), (28, 14), (75, 10), (114, 111), (64, 55), (116, 38), (62, 67), (16, 33), (76, 102), (17, 7), (85, 68), (39, 46), (22, 39), (14, 99), (44, 15), (118, 83), (127, 104), (110, 118), (55, 8), (33, 42), (81, 100), (122, 110), (3, 19), (68, 63), (101, 5), (98, 73), (84, 65), (59, 54), (21, 36), (66, 13), (67, 97), (104, 61), (103, 126), (90, 71), (119, 52), (89, 124), (9, 101), (43, 41), (8, 56), (91, 72), (1, 53), (113, 2), (13, 9), (69, 96), (70, 40), (105, 37), (112, 24), (129, 49), (86, 78), (20, 32), (23, 28), (58, 89), (15, 127), (111, 116), (74, 51), (78, 94), (7, 107), (93, 76), (29, 58), (11, 86), (54, 121), (38, 70), (95, 12), (117, 79), (0, 40), (121, 95), (52, 105), (41, 50), (80, 11), (124, 84), (71, 48), (99, 18), (31, 112), (92, 43), (32, 22), (46, 21), (25, 87), (106, 69), (79, 45), (96, 6), (36, 92), (48, 57), (37, 91), (49, 1), (120, 125), (77, 120), (100, 122), (94, 115), (24, 47), (87, 85), (0, 129), (83, 35), (4, 44), (126, 106), (12, 66), (35, 31), (6, 25), (50, 59), (45, 17), (19, 117), (72, 98), (56, 81), (10, 4), (30, 16), (57, 119), (65, 77), (5, 90), (128, 60), (97, 109), (123, 128), (63, 123), (2, 82)}\n"
     ]
    }
   ],
   "source": [
    "print(set(error_edges))\n",
    "print('\\n', set(opt_edges))"
   ]
  },
  {
   "cell_type": "code",
   "execution_count": 182,
   "metadata": {},
   "outputs": [
    {
     "data": {
      "text/plain": [
       "<matplotlib.collections.LineCollection at 0x1162c00d0>"
      ]
     },
     "execution_count": 182,
     "metadata": {},
     "output_type": "execute_result"
    },
    {
     "data": {
      "image/png": "[encoded data removed]",
      "text/plain": [
       "<Figure size 432x288 with 1 Axes>"
      ]
     },
     "metadata": {},
     "output_type": "display_data"
    }
   ],
   "source": [
    "nx.draw(G_opt, pos, **options)\n",
    "nx.draw_networkx_edges(G_opt, pos, edgelist=error_edges, edge_color='red', width=3)"
   ]
  },
  {
   "cell_type": "code",
   "execution_count": null,
   "metadata": {},
   "outputs": [],
   "source": []
  }
 ],
 "metadata": {
  "kernelspec": {
   "display_name": "Python 3 (ipykernel)",
   "language": "python",
   "name": "python3"
  },
  "language_info": {
   "codemirror_mode": {
    "name": "ipython",
    "version": 3
   },
   "file_extension": ".py",
   "mimetype": "text/x-python",
   "name": "python",
   "nbconvert_exporter": "python",
   "pygments_lexer": "ipython3",
   "version": "3.9.1"
  }
 },
 "nbformat": 4,
 "nbformat_minor": 4
}