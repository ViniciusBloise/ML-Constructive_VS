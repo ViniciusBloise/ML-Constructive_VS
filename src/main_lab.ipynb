{
 "cells": [
  {
   "cell_type": "code",
   "execution_count": 9,
   "metadata": {},
   "outputs": [
    {
     "name": "stdout",
     "output_type": "stream",
     "text": [
      "py39\n",
      "/Users/vbloise/miniconda3/envs/py39/bin/python\n",
      "3.9.12 | packaged by conda-forge | (main, Mar 24 2022, 23:27:05) \n",
      "[Clang 12.0.1 ]\n",
      "sys.version_info(major=3, minor=9, micro=12, releaselevel='final', serial=0)\n"
     ]
    }
   ],
   "source": [
    "import os\n",
    "print (os.environ['CONDA_DEFAULT_ENV'])\n",
    "\n",
    "import sys\n",
    "print(sys.executable)\n",
    "print(sys.version)\n",
    "print(sys.version_info)"
   ]
  },
  {
   "cell_type": "code",
   "execution_count": 15,
   "metadata": {},
   "outputs": [],
   "source": [
    "from tsplib import readerTSP, plotterTSP\n",
    "import networkx as nx"
   ]
  },
  {
   "cell_type": "code",
   "execution_count": 17,
   "metadata": {},
   "outputs": [],
   "source": [
    "reader = readerTSP.ReaderTSP()\n",
    "plotter = plotterTSP.PlotterTSP(None)\n",
    "\n",
    "instance = next(reader.instances_generator())\n",
    "n_points, positions, distance_matrix, name, optimal_tour = instance"
   ]
  },
  {
   "cell_type": "code",
   "execution_count": 52,
   "metadata": {},
   "outputs": [
    {
     "data": {
      "image/png": "[encoded data removed]",
      "text/plain": [
       "<Figure size 432x288 with 1 Axes>"
      ]
     },
     "metadata": {},
     "output_type": "display_data"
    }
   ],
   "source": [
    "#G = nx.from_edgelist(positions)\n",
    "\n",
    "G = nx.Graph()\n",
    "node = 0\n",
    "for position in positions:\n",
    "    G.add_node(node, pos=position)\n",
    "    node += 1\n",
    "\n",
    "#G = nx.random_geometric_graph(20, radius=0.4, seed=3)\n",
    "pos = nx.get_node_attributes(G, 'pos')\n",
    "#pos = nx.spring_layout(G)\n",
    "\n",
    "nx.draw(G, pos, node_size=5)"
   ]
  },
  {
   "cell_type": "code",
   "execution_count": 46,
   "metadata": {},
   "outputs": [
    {
     "data": {
      "image/png": "[encoded data removed]",
      "text/plain": [
       "<Figure size 432x288 with 1 Axes>"
      ]
     },
     "metadata": {
      "needs_background": "light"
     },
     "output_type": "display_data"
    }
   ],
   "source": [
    "plotter.set_figure(1)\n",
    "plotter.plot_points(positions)"
   ]
  },
  {
   "cell_type": "code",
   "execution_count": 47,
   "metadata": {},
   "outputs": [
    {
     "data": {
      "text/plain": [
       "array([  0.,  20.,  24.,  33.,  33.,  43.,  56.,  63.,  61.,  71.,  79.,\n",
       "        86.,  94., 102.,  93., 100., 116., 124., 132., 140., 148., 141.,\n",
       "       126., 118., 134., 149., 157., 165., 172., 184., 184., 185., 199.,\n",
       "       208., 224., 225., 233., 232., 232., 232., 232., 233., 234., 250.,\n",
       "       249., 248., 248., 248., 248., 249., 257., 256., 256., 256., 256.,\n",
       "       257., 258., 259., 251., 235., 236., 245., 253., 261., 263., 271.,\n",
       "       277., 275., 283., 285., 286., 288., 290., 292., 295., 287., 297.,\n",
       "       300., 284., 278., 275., 272., 269., 267., 265., 257., 259., 262.,\n",
       "       267., 266., 269., 273., 284., 292., 299., 302., 295., 288., 280.,\n",
       "       271., 267., 263., 259., 256., 249., 241., 238., 253., 259., 250.,\n",
       "       247., 255., 252., 244., 242., 249., 240., 238., 191., 189., 187.,\n",
       "       186., 185., 184., 184., 172., 164., 156., 156., 148., 141., 133.,\n",
       "       125., 118., 120., 123., 126., 129., 132., 126., 130., 134., 139.,\n",
       "       144., 151., 146., 141., 137., 141., 154., 176., 173., 169., 166.,\n",
       "       167., 171., 194., 196., 199., 202., 209., 213., 218., 222., 226.,\n",
       "       241., 251., 257., 258., 249., 242., 242., 234., 224., 206., 182.,\n",
       "       179., 170., 170., 179., 186., 190., 194., 199., 203., 202., 208.,\n",
       "       219., 213., 207., 198., 188., 181., 173., 167., 161., 167., 161.,\n",
       "       156., 150., 156., 147., 136., 125., 113., 102., 100.,  94.,  89.,\n",
       "        95., 102., 107., 113., 109., 116., 120., 127., 123., 131., 134.,\n",
       "       141., 138., 133., 123., 115., 108., 100.,  92.,  85.,  77.,  73.,\n",
       "        81.,  89.,  97.,  96.,  88.,  80.,  72.,  64.,  56.,  48.,  40.,\n",
       "        41.,  49.,  57.,  65.,  56.,  49.,  60.,  63.,  70.,  82.,  88.,\n",
       "        82.,  76.,  71.,  77.,  72.,  68.,  65.,  72.,  82.,  93., 104.,\n",
       "       115., 122., 118., 115., 113., 111.,  92.,  84.,  76.,  68.,  60.,\n",
       "        52.,  43.,  43.,  34.,  18.])"
      ]
     },
     "execution_count": 47,
     "metadata": {},
     "output_type": "execute_result"
    }
   ],
   "source": [
    "distance_matrix[0]"
   ]
  },
  {
   "cell_type": "code",
   "execution_count": null,
   "metadata": {},
   "outputs": [],
   "source": []
  },
  {
   "cell_type": "code",
   "execution_count": null,
   "metadata": {},
   "outputs": [],
   "source": []
  }
 ],
 "metadata": {
  "kernelspec": {
   "display_name": "Python 3 (ipykernel)",
   "language": "python",
   "name": "python3"
  },
  "language_info": {
   "codemirror_mode": {
    "name": "ipython",
    "version": 3
   },
   "file_extension": ".py",
   "mimetype": "text/x-python",
   "name": "python",
   "nbconvert_exporter": "python",
   "pygments_lexer": "ipython3",
   "version": "3.9.12"
  }
 },
 "nbformat": 4,
 "nbformat_minor": 4
}
